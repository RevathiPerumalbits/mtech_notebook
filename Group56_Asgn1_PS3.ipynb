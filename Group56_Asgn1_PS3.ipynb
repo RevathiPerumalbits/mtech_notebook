{
 "cells": [
  {
   "cell_type": "markdown",
   "metadata": {},
   "source": [
    "## Group 56  \n",
    "## Problem Statement Assignment_1_PS-3\n",
    "\n",
    "\n",
    "## Contributors\n",
    "\n",
    "1. xx\n",
    "2. xx\n",
    "3. xx\n",
    "4. xx\n",
    "5. xx"
   ]
  },
  {
   "cell_type": "markdown",
   "metadata": {},
   "source": [
    "### Assignment_1_PS-3\n",
    "\n",
    "NLP Assignment 1\n",
    "\n",
    "General Instructions\n",
    "\n",
    "Each group is expected to submit a jupyter notebook (.ipynb) and a pdf file of the same. \n",
    "\n",
    "Each output generated should be justified.\n",
    "\n",
    "No extension on the deadline\n",
    "\n",
    "Submissions using other python IDEs will not be considered for grading.\n",
    "\n",
    "\n",
    "\n",
    "\n",
    "Perform the following tasks using the given dataset\n",
    "\n",
    "Dataset : \n",
    "\n",
    "\n",
    "https://drive.google.com/file/d/1QS50opZIGIQ2TaiCNBk4z8pw_mypSibM/view?usp=sharing\n",
    "\n",
    "\n",
    "\n",
    "\n",
    "(Consider the text column that represents a review in the dataset) \n",
    "\n",
    "\n",
    "Prepare the dataset for the algorithm by:\n",
    "\n",
    "Cleaning: Removing punctuation, numbers, and special characters. Eliminating stop words.                    \n",
    "\n",
    "Normalization: Reducing words to their base or root  form using stemming or lemmatization                                  (1M)\n",
    "\n",
    "Apply a POS tagging algorithm or utilize a pretrained POS tagger to assign POS tags to the words in the dataset.\n",
    "\n",
    "(a) Determine the frequency of each POS tag across the entire dataset.\n",
    "\n",
    "(b)Identify and present the top 10 most frequent POS tags and their respective frequencies.\n",
    "\n",
    "(c) Analyze the common word combinations and patterns surrounding the most frequent POS tags (e.g., \"adjective + noun\", \"verb + prepositional phrase\").          (2 Marks)\n",
    "\n",
    "Generate visualizations such as bar charts, word clouds to represent the POS tag frequencies                                 (2 Marks)\n",
    "\n",
    "Display the HMM POS tagging on the first 4 rows of the dataset        (2 Marks)\n",
    "\n",
    "a) Choose a subset of the dataset (e.g., a paragraph or a set of sentences) and apply both POS tagging and NER to this subset. \n",
    "\n",
    "(b) Create a table that displays each word in the subset along with its POS tag and NER tag (if applicable). \n",
    "\n",
    "(c) Identify the instances where POS tags and NER tags appear to contradict each other or provide mutually supportive information. Justify how these observed relationships can be leveraged to enhance the accuracy and depth of text analysis tasks                                               (3 Marks)\n",
    "\n",
    "\n",
    "\n",
    "\n",
    "\n",
    "Justification of the output obtained for all the above tasks is mandatory\n",
    "\n"
   ]
  },
  {
   "cell_type": "code",
   "execution_count": 18,
   "metadata": {},
   "outputs": [
    {
     "name": "stdout",
     "output_type": "stream",
     "text": [
      "Requirement already satisfied: nltk in c:\\users\\subhasis\\miniconda3\\lib\\site-packages (3.9.1)\n",
      "Requirement already satisfied: click in c:\\users\\subhasis\\miniconda3\\lib\\site-packages (from nltk) (8.1.8)\n",
      "Requirement already satisfied: joblib in c:\\users\\subhasis\\miniconda3\\lib\\site-packages (from nltk) (1.4.2)\n",
      "Requirement already satisfied: regex>=2021.8.3 in c:\\users\\subhasis\\miniconda3\\lib\\site-packages (from nltk) (2024.11.6)\n",
      "Requirement already satisfied: tqdm in c:\\users\\subhasis\\miniconda3\\lib\\site-packages (from nltk) (4.65.0)\n",
      "Requirement already satisfied: colorama in c:\\users\\subhasis\\miniconda3\\lib\\site-packages (from click->nltk) (0.4.6)\n"
     ]
    }
   ],
   "source": [
    "# Installation of nltk\n",
    "# In Jupyter, the console commands can be executed by the ‘!’ sign before the command within the cell\n",
    "!pip install nltk"
   ]
  },
  {
   "cell_type": "code",
   "execution_count": 19,
   "metadata": {},
   "outputs": [],
   "source": [
    "#import nltk library for using its different functions\n",
    "import nltk\n",
    "import string\n",
    "import re\n",
    "\n",
    "# for loading the csv\n",
    "import pandas as pd\n",
    "\n",
    "# for remoning stopwords\n",
    "from nltk.corpus import stopwords"
   ]
  },
  {
   "cell_type": "code",
   "execution_count": 20,
   "metadata": {},
   "outputs": [
    {
     "name": "stderr",
     "output_type": "stream",
     "text": [
      "[nltk_data] Downloading package punkt to\n",
      "[nltk_data]     C:\\Users\\Subhasis\\AppData\\Roaming\\nltk_data...\n",
      "[nltk_data]   Package punkt is already up-to-date!\n",
      "[nltk_data] Downloading package stopwords to\n",
      "[nltk_data]     C:\\Users\\Subhasis\\AppData\\Roaming\\nltk_data...\n",
      "[nltk_data]   Package stopwords is already up-to-date!\n"
     ]
    },
    {
     "data": {
      "text/plain": [
       "True"
      ]
     },
     "execution_count": 20,
     "metadata": {},
     "output_type": "execute_result"
    }
   ],
   "source": [
    "nltk.download('punkt')\n",
    "nltk.download('stopwords')"
   ]
  },
  {
   "cell_type": "code",
   "execution_count": 21,
   "metadata": {},
   "outputs": [],
   "source": [
    "#  Sentence Tokenization  - Tokenizes sentences from text\n",
    "from nltk.tokenize import sent_tokenize\n",
    "\n",
    "# Word Tokenization  - Tokenizes words in sentences\n",
    "from nltk.tokenize import word_tokenize\n",
    "\n"
   ]
  },
  {
   "cell_type": "code",
   "execution_count": 22,
   "metadata": {},
   "outputs": [],
   "source": [
    "# Cleaning: Removing punctuation, numbers, and special characters. Eliminating stop words.  \n",
    "\n",
    "def clean_dataset(text):\n",
    "    if not isinstance(text, str): # Ensure the text is a string\n",
    "        return \"\"\n",
    "    \n",
    "    # define stop words\n",
    "    stop_words = set(stopwords.words('english'))\n",
    "\n",
    "    # remove special characters, numbers and punctuations\n",
    "    text = re.sub(r'[^a-zA-Z\\s]', '', text)\n",
    "\n",
    "    # tokenize text\n",
    "    words = nltk.word_tokenize(text)\n",
    "\n",
    "    # remove stop words\n",
    "    words = [word.lower() for word in words if word.lower() not in stop_words ]\n",
    "\n",
    "    # join cleaned words\n",
    "    return ' '.join(words)"
   ]
  },
  {
   "cell_type": "code",
   "execution_count": 23,
   "metadata": {},
   "outputs": [
    {
     "name": "stderr",
     "output_type": "stream",
     "text": [
      "[nltk_data] Downloading package wordnet to\n",
      "[nltk_data]     C:\\Users\\Subhasis\\AppData\\Roaming\\nltk_data...\n",
      "[nltk_data]   Package wordnet is already up-to-date!\n",
      "[nltk_data] Downloading package omw-1.4 to\n",
      "[nltk_data]     C:\\Users\\Subhasis\\AppData\\Roaming\\nltk_data...\n",
      "[nltk_data]   Package omw-1.4 is already up-to-date!\n"
     ]
    }
   ],
   "source": [
    "# Normalization: Reducing words to their base or root  form using stemming or lemmatization \n",
    "\n",
    "from nltk.stem import WordNetLemmatizer\n",
    "\n",
    "nltk.download('wordnet')\n",
    "# using omw-1.4 \n",
    "# to improve lemmatization accuracy and handle nuanced linguictic cases\n",
    "# to work with datasets in languages other than English\n",
    "# to maintain compatibility with the latest featres of WordNet in NLTK\n",
    "nltk.download('omw-1.4')\n",
    "\n",
    "def normalize_dataset(text):\n",
    "    lemmatizer = WordNetLemmatizer()\n",
    "\n",
    "    # tokenize text\n",
    "    words = nltk.word_tokenize(text)\n",
    "\n",
    "    # lemmatize each word\n",
    "    normalized_words = [ lemmatizer.lemmatize(word) for word in words ]\n",
    "\n",
    "    # join normalised words\n",
    "    return ' '.join(normalized_words)\n"
   ]
  },
  {
   "cell_type": "code",
   "execution_count": 24,
   "metadata": {},
   "outputs": [
    {
     "name": "stderr",
     "output_type": "stream",
     "text": [
      "[nltk_data] Downloading package averaged_perceptron_tagger to\n",
      "[nltk_data]     C:\\Users\\Subhasis\\AppData\\Roaming\\nltk_data...\n",
      "[nltk_data]   Package averaged_perceptron_tagger is already up-to-\n",
      "[nltk_data]       date!\n"
     ]
    }
   ],
   "source": [
    "# Apply a POS tagging algorithm or utilize a pretrained POS tagger to assign POS tags to the words in the dataset.\n",
    "nltk.download('averaged_perceptron_tagger')\n",
    "\n",
    "def pos_tagging(text):\n",
    "    tokens = nltk.word_tokenize(text)\n",
    "    return nltk.pos_tag(tokens)"
   ]
  },
  {
   "cell_type": "code",
   "execution_count": 25,
   "metadata": {},
   "outputs": [
    {
     "name": "stdout",
     "output_type": "stream",
     "text": [
      "   listing_id       id  reviewer_id reviewer_name  \\\n",
      "0     1178162  4724140      4298113       Olivier   \n",
      "1     1178162  4869189      6452964     Charlotte   \n",
      "2     1178162  5003196      6449554     Sebastian   \n",
      "3     1178162  5150351      2215611        Marine   \n",
      "4     1178162  5171140      6848427        Andrew   \n",
      "\n",
      "                                            comments  \n",
      "0  My stay at islam's place was really cool! Good...  \n",
      "1  Great location for both airport and city - gre...  \n",
      "2  We really enjoyed our stay at Islams house. Fr...  \n",
      "3  The room was nice and clean and so were the co...  \n",
      "4  Great location. Just 5 mins walk from the Airp...  \n"
     ]
    }
   ],
   "source": [
    "# loading the dataset\n",
    "\n",
    "data =  pd.read_csv('boston airbnb reviews.csv')\n",
    "print(data.head())"
   ]
  },
  {
   "cell_type": "code",
   "execution_count": 26,
   "metadata": {},
   "outputs": [
    {
     "name": "stderr",
     "output_type": "stream",
     "text": [
      "[nltk_data] Downloading package punkt to\n",
      "[nltk_data]     C:\\Users\\Subhasis\\AppData\\Roaming\\nltk_data...\n",
      "[nltk_data]   Package punkt is already up-to-date!\n",
      "[nltk_data] Downloading package punkt_tab to\n",
      "[nltk_data]     C:\\Users\\Subhasis\\AppData\\Roaming\\nltk_data...\n",
      "[nltk_data]   Package punkt_tab is already up-to-date!\n"
     ]
    },
    {
     "name": "stdout",
     "output_type": "stream",
     "text": [
      "                                            comments  \\\n",
      "0  My stay at islam's place was really cool! Good...   \n",
      "1  Great location for both airport and city - gre...   \n",
      "2  We really enjoyed our stay at Islams house. Fr...   \n",
      "3  The room was nice and clean and so were the co...   \n",
      "4  Great location. Just 5 mins walk from the Airp...   \n",
      "\n",
      "                                    cleaned_comments  \\\n",
      "0  stay islams place really cool good location mi...   \n",
      "1  great location airport city great amenities ho...   \n",
      "2  really enjoyed stay islams house outside house...   \n",
      "3  room nice clean commodities close airport metr...   \n",
      "4  great location mins walk airport station good ...   \n",
      "\n",
      "                                 normalized_comments  \n",
      "0  stay islam place really cool good location min...  \n",
      "1  great location airport city great amenity hous...  \n",
      "2  really enjoyed stay islam house outside house ...  \n",
      "3  room nice clean commodity close airport metro ...  \n",
      "4  great location min walk airport station good f...  \n"
     ]
    }
   ],
   "source": [
    "# This model is essential for tokenizing text into sentences or words using NLTK\n",
    "nltk.download('punkt')\n",
    "nltk.download('punkt_tab')\n",
    "\n",
    "\n",
    "# apply cleaning\n",
    "data['cleaned_comments'] = data['comments'].apply(clean_dataset)\n",
    "\n",
    "# apply normalisation\n",
    "data['normalized_comments'] = data['cleaned_comments'].apply(normalize_dataset)\n",
    "\n",
    "# display the updated dataset\n",
    "print(data[['comments', 'cleaned_comments', 'normalized_comments']].head())\n"
   ]
  },
  {
   "cell_type": "code",
   "execution_count": 27,
   "metadata": {},
   "outputs": [
    {
     "name": "stderr",
     "output_type": "stream",
     "text": [
      "[nltk_data] Downloading package averaged_perceptron_tagger_eng to\n",
      "[nltk_data]     C:\\Users\\Subhasis\\AppData\\Roaming\\nltk_data...\n",
      "[nltk_data]   Package averaged_perceptron_tagger_eng is already up-to-\n",
      "[nltk_data]       date!\n"
     ]
    },
    {
     "name": "stdout",
     "output_type": "stream",
     "text": [
      "                                            comments  \\\n",
      "0  My stay at islam's place was really cool! Good...   \n",
      "1  Great location for both airport and city - gre...   \n",
      "2  We really enjoyed our stay at Islams house. Fr...   \n",
      "3  The room was nice and clean and so were the co...   \n",
      "4  Great location. Just 5 mins walk from the Airp...   \n",
      "\n",
      "                                    cleaned_comments  \\\n",
      "0  stay islams place really cool good location mi...   \n",
      "1  great location airport city great amenities ho...   \n",
      "2  really enjoyed stay islams house outside house...   \n",
      "3  room nice clean commodities close airport metr...   \n",
      "4  great location mins walk airport station good ...   \n",
      "\n",
      "                                 normalized_comments  \\\n",
      "0  stay islam place really cool good location min...   \n",
      "1  great location airport city great amenity hous...   \n",
      "2  really enjoyed stay islam house outside house ...   \n",
      "3  room nice clean commodity close airport metro ...   \n",
      "4  great location min walk airport station good f...   \n",
      "\n",
      "                                            pos_tags  \n",
      "0  [(stay, NN), (islam, JJ), (place, NN), (really...  \n",
      "1  [(great, JJ), (location, NN), (airport, NN), (...  \n",
      "2  [(really, RB), (enjoyed, VBN), (stay, NN), (is...  \n",
      "3  [(room, NN), (nice, JJ), (clean, JJ), (commodi...  \n",
      "4  [(great, JJ), (location, NN), (min, NN), (walk...  \n"
     ]
    }
   ],
   "source": [
    "nltk.download('averaged_perceptron_tagger_eng')\n",
    "\n",
    "# apply POS tagging\n",
    "# data['pos_tags'] = data['normalized_comments'].apply(pos_tagging)\n",
    "\n",
    "# tokenise once\n",
    "data['tokens'] = data['normalized_comments'].apply(nltk.word_tokenize)\n",
    "# Use tokens for POS tagging\n",
    "data['pos_tags'] = data['tokens'].apply(nltk.pos_tag)\n",
    "\n",
    "# display the updated dataset\n",
    "print(data[['comments', 'cleaned_comments', 'normalized_comments', 'pos_tags']].head())\n",
    "\n",
    "# takes 1m 57s"
   ]
  },
  {
   "cell_type": "code",
   "execution_count": 28,
   "metadata": {},
   "outputs": [
    {
     "data": {
      "text/plain": [
       "'\\nfrom nltk import word_tokenize, pos_tag\\n\\ndef batch_pos_tagging(texts):\\n    tokenized_texts = [word_tokenize(text) for text in texts]\\n    return [pos_tag(tokens) for tokens in tokenized_texts]\\n'"
      ]
     },
     "execution_count": 28,
     "metadata": {},
     "output_type": "execute_result"
    }
   ],
   "source": [
    "# applying batch pos tagging\n",
    "'''\n",
    "from nltk import word_tokenize, pos_tag\n",
    "\n",
    "def batch_pos_tagging(texts):\n",
    "    tokenized_texts = [word_tokenize(text) for text in texts]\n",
    "    return [pos_tag(tokens) for tokens in tokenized_texts]\n",
    "'''"
   ]
  },
  {
   "cell_type": "code",
   "execution_count": 29,
   "metadata": {},
   "outputs": [
    {
     "data": {
      "text/plain": [
       "\"\\nbatch_size = 1000\\n\\npos_results = []\\n\\nfor i in range(0, len(data), batch_size):\\n    batch = data['normalized_comments'][i:i + batch_size]\\n    pos_results.extend(batch_pos_tagging(batch))\\n\\ndata['pos_tags'] = pos_results\\n\\nprint(data[['comments', 'cleaned_comments', 'normalized_comments', 'pos_tags']].head())\\n\""
      ]
     },
     "execution_count": 29,
     "metadata": {},
     "output_type": "execute_result"
    }
   ],
   "source": [
    "'''\n",
    "batch_size = 1000\n",
    "\n",
    "pos_results = []\n",
    "\n",
    "for i in range(0, len(data), batch_size):\n",
    "    batch = data['normalized_comments'][i:i + batch_size]\n",
    "    pos_results.extend(batch_pos_tagging(batch))\n",
    "\n",
    "data['pos_tags'] = pos_results\n",
    "\n",
    "print(data[['comments', 'cleaned_comments', 'normalized_comments', 'pos_tags']].head())\n",
    "'''\n",
    "\n",
    "# 1m 40.3s"
   ]
  },
  {
   "cell_type": "code",
   "execution_count": 30,
   "metadata": {},
   "outputs": [
    {
     "data": {
      "text/plain": [
       "'\\nfrom multiprocessing import Pool, cpu_count\\nfrom nltk import word_tokenize, pos_tag\\n\\ndef pos_tag_row(text):\\n    \"\"\"POS tagging for a single row.\"\"\"\\n    tokens = word_tokenize(text)\\n    return pos_tag(tokens)\\n\\n\\n# Apply multiprocessing\\nif __name__ == \"__main__\":\\n    with Pool(cpu_count()) as pool:\\n        data[\\'pos_tags\\'] = pool.map(pos_tag_row, data[\\'normalized_comments\\'])\\n\\nprint(data[[\\'comments\\', \\'cleaned_comments\\', \\'normalized_comments\\', \\'pos_tags\\']].head())\\n'"
      ]
     },
     "execution_count": 30,
     "metadata": {},
     "output_type": "execute_result"
    }
   ],
   "source": [
    "# using parallel processing\n",
    "'''\n",
    "from multiprocessing import Pool, cpu_count\n",
    "from nltk import word_tokenize, pos_tag\n",
    "\n",
    "def pos_tag_row(text):\n",
    "    \"\"\"POS tagging for a single row.\"\"\"\n",
    "    tokens = word_tokenize(text)\n",
    "    return pos_tag(tokens)\n",
    "\n",
    "\n",
    "# Apply multiprocessing\n",
    "if __name__ == \"__main__\":\n",
    "    with Pool(cpu_count()) as pool:\n",
    "        data['pos_tags'] = pool.map(pos_tag_row, data['normalized_comments'])\n",
    "\n",
    "print(data[['comments', 'cleaned_comments', 'normalized_comments', 'pos_tags']].head())\n",
    "'''"
   ]
  },
  {
   "cell_type": "code",
   "execution_count": 31,
   "metadata": {},
   "outputs": [
    {
     "data": {
      "text/plain": [
       "'\\n\\n!pip install spacy\\n\\n!python -m spacy download en_core_web_sm\\n\\nimport spacy\\n\\n# Load the spaCy English model\\nnlp = spacy.load(\"en_core_web_sm\")\\n\\ndef spacy_pos_tag(text):\\n    \"\"\"Perform POS tagging using spaCy.\"\"\"\\n    doc = nlp(text)\\n    return [(token.text, token.pos_) for token in doc]\\n\\n# Apply spaCy POS tagging\\ndata[\\'pos_tags\\'] = data[\\'normalized_comments\\'].apply(spacy_pos_tag)\\n\\n\\nprint(data[[\\'comments\\', \\'cleaned_comments\\', \\'normalized_comments\\', \\'pos_tags\\']].head())\\n\\n'"
      ]
     },
     "execution_count": 31,
     "metadata": {},
     "output_type": "execute_result"
    }
   ],
   "source": [
    "'''\n",
    "\n",
    "!pip install spacy\n",
    "\n",
    "!python -m spacy download en_core_web_sm\n",
    "\n",
    "import spacy\n",
    "\n",
    "# Load the spaCy English model\n",
    "nlp = spacy.load(\"en_core_web_sm\")\n",
    "\n",
    "def spacy_pos_tag(text):\n",
    "    \"\"\"Perform POS tagging using spaCy.\"\"\"\n",
    "    doc = nlp(text)\n",
    "    return [(token.text, token.pos_) for token in doc]\n",
    "\n",
    "# Apply spaCy POS tagging\n",
    "data['pos_tags'] = data['normalized_comments'].apply(spacy_pos_tag)\n",
    "\n",
    "\n",
    "print(data[['comments', 'cleaned_comments', 'normalized_comments', 'pos_tags']].head())\n",
    "\n",
    "'''\n",
    "\n",
    "# 4m 52s +++ did not complete"
   ]
  },
  {
   "cell_type": "markdown",
   "metadata": {},
   "source": [
    "#### (a) Determine the frequency of each POS tag across the entire dataset."
   ]
  },
  {
   "cell_type": "code",
   "execution_count": 33,
   "metadata": {},
   "outputs": [
    {
     "name": "stdout",
     "output_type": "stream",
     "text": [
      "POS Tag frequencies:  Counter({'NN': 987806, 'JJ': 540543, 'RB': 188875, 'VBD': 104367, 'VBG': 81143, 'VB': 58756, 'VBP': 55934, 'VBN': 54911, 'IN': 49769, 'NNS': 36391, 'MD': 27834, 'FW': 20618, 'CD': 14834, 'JJS': 9117, 'VBZ': 8869, 'JJR': 6774, 'RBR': 4402, 'DT': 4237, 'CC': 2602, 'RP': 2193, 'NNP': 2013, 'WP': 673, 'PRP': 615, 'RBS': 502, 'WRB': 482, 'EX': 425, 'WDT': 265, 'PRP$': 124, 'TO': 122, 'UH': 57, 'WP$': 40, 'PDT': 10, 'POS': 6, 'SYM': 5, '$': 4, 'NNPS': 2})\n"
     ]
    }
   ],
   "source": [
    "from collections import Counter\n",
    "#import nltk\n",
    "\n",
    "# flatten the list of tags across all rows in dataset\n",
    "all_tags = [tag for row in data['pos_tags'] for _, tag in row]\n",
    "\n",
    "# count frequency of each POS tag\n",
    "pos_freq = Counter(all_tags)\n",
    "\n",
    "# Display the frequency of each POS tag\n",
    "print(\"POS Tag frequencies: \", pos_freq) \n"
   ]
  },
  {
   "cell_type": "markdown",
   "metadata": {},
   "source": [
    "#### (b) Identify and Present the Top 10 Most Frequent POS Tags"
   ]
  },
  {
   "cell_type": "code",
   "execution_count": 34,
   "metadata": {},
   "outputs": [
    {
     "name": "stdout",
     "output_type": "stream",
     "text": [
      "Top 10 POS Tags and Frequencies:\n",
      "NN: 987806\n",
      "JJ: 540543\n",
      "RB: 188875\n",
      "VBD: 104367\n",
      "VBG: 81143\n",
      "VB: 58756\n",
      "VBP: 55934\n",
      "VBN: 54911\n",
      "IN: 49769\n",
      "NNS: 36391\n"
     ]
    },
    {
     "data": {
      "image/png": "[encoded data removed]",
      "text/plain": [
       "<Figure size 640x480 with 1 Axes>"
      ]
     },
     "metadata": {},
     "output_type": "display_data"
    }
   ],
   "source": [
    "# Get the top 10 most frequent POS tags\n",
    "top_10_tags = pos_freq.most_common(10)\n",
    "\n",
    "# Display the top 10 tags and their frequencies\n",
    "print(\"Top 10 POS Tags and Frequencies:\")\n",
    "for tag, freq in top_10_tags:\n",
    "    print(f\"{tag}: {freq}\")\n",
    "\n",
    "# visualisation \n",
    "import matplotlib.pyplot as plt\n",
    "\n",
    "# Separate tags and frequencies for plotting\n",
    "tags, frequencies = zip(*top_10_tags)\n",
    "\n",
    "# Plot the bar chart\n",
    "plt.bar(tags, frequencies)\n",
    "plt.title(\"Top 10 POS Tags by Frequency\")\n",
    "plt.xlabel(\"POS Tags\")\n",
    "plt.ylabel(\"Frequency\")\n",
    "plt.show()"
   ]
  },
  {
   "cell_type": "markdown",
   "metadata": {},
   "source": [
    "#### (c) Analyze the common word combinations and patterns surrounding the most frequent POS tags (e.g., \"adjective + noun\", \"verb + prepositional phrase\"). "
   ]
  },
  {
   "cell_type": "code",
   "execution_count": 38,
   "metadata": {},
   "outputs": [
    {
     "name": "stdout",
     "output_type": "stream",
     "text": [
      "Top 10 most common combinations:\n",
      "NN + NN : 414710\n",
      "JJ + NN : 344602\n",
      "NN + JJ : 179702\n",
      "JJ + JJ : 105236\n",
      "NN + RB : 88792\n",
      "RB + JJ : 73749\n",
      "NN + VBD : 71163\n",
      "VBD + JJ : 46438\n",
      "NN + VBG : 38351\n",
      "VBG + NN : 36395\n"
     ]
    },
    {
     "data": {
      "image/png": "[encoded data removed]",
      "text/plain": [
       "<Figure size 640x480 with 1 Axes>"
      ]
     },
     "metadata": {},
     "output_type": "display_data"
    },
    {
     "name": "stdout",
     "output_type": "stream",
     "text": [
      "Requirement already satisfied: wordcloud in c:\\users\\subhasis\\miniconda3\\lib\\site-packages (1.9.4)\n",
      "Requirement already satisfied: numpy>=1.6.1 in c:\\users\\subhasis\\miniconda3\\lib\\site-packages (from wordcloud) (1.26.4)\n",
      "Requirement already satisfied: pillow in c:\\users\\subhasis\\miniconda3\\lib\\site-packages (from wordcloud) (10.3.0)\n",
      "Requirement already satisfied: matplotlib in c:\\users\\subhasis\\miniconda3\\lib\\site-packages (from wordcloud) (3.9.0)\n",
      "Requirement already satisfied: contourpy>=1.0.1 in c:\\users\\subhasis\\miniconda3\\lib\\site-packages (from matplotlib->wordcloud) (1.2.1)\n",
      "Requirement already satisfied: cycler>=0.10 in c:\\users\\subhasis\\miniconda3\\lib\\site-packages (from matplotlib->wordcloud) (0.12.1)\n",
      "Requirement already satisfied: fonttools>=4.22.0 in c:\\users\\subhasis\\miniconda3\\lib\\site-packages (from matplotlib->wordcloud) (4.51.0)\n",
      "Requirement already satisfied: kiwisolver>=1.3.1 in c:\\users\\subhasis\\miniconda3\\lib\\site-packages (from matplotlib->wordcloud) (1.4.5)\n",
      "Requirement already satisfied: packaging>=20.0 in c:\\users\\subhasis\\miniconda3\\lib\\site-packages (from matplotlib->wordcloud) (23.2)\n",
      "Requirement already satisfied: pyparsing>=2.3.1 in c:\\users\\subhasis\\miniconda3\\lib\\site-packages (from matplotlib->wordcloud) (3.1.2)\n",
      "Requirement already satisfied: python-dateutil>=2.7 in c:\\users\\subhasis\\miniconda3\\lib\\site-packages (from matplotlib->wordcloud) (2.9.0.post0)\n",
      "Requirement already satisfied: six>=1.5 in c:\\users\\subhasis\\miniconda3\\lib\\site-packages (from python-dateutil>=2.7->matplotlib->wordcloud) (1.16.0)\n"
     ]
    },
    {
     "data": {
      "image/png": "[encoded data removed]",
      "text/plain": [
       "<Figure size 1000x500 with 1 Axes>"
      ]
     },
     "metadata": {},
     "output_type": "display_data"
    }
   ],
   "source": [
    "# Extract adjacent POS tag combinations\n",
    "def extract_combinations(tagged_sentence):\n",
    "    combinations=[]\n",
    "    for i in range(len(tagged_sentence) - 1):\n",
    "        combinations.append(f\"{tagged_sentence[i][1]} + {tagged_sentence[i+1][1]}\")\n",
    "    return combinations\n",
    "\n",
    "# get all combinations from the dataset\n",
    "all_combinations = []\n",
    "for row in data[\"pos_tags\"]:\n",
    "    all_combinations.extend(extract_combinations(row))\n",
    "\n",
    "# count the frequency of each combinations\n",
    "comb_freq = Counter(all_combinations)\n",
    "\n",
    "# Display the most common combinations\n",
    "top_combinations = comb_freq.most_common(10)\n",
    "print(\"Top 10 most common combinations:\")\n",
    "for combo, freq in top_combinations:\n",
    "    print(f\"{combo} : {freq}\")\n",
    "\n",
    "# Visualization\n",
    "# Separate combinations and frequencies for plotting\n",
    "combinations, comb_frequencies = zip(*top_combinations)\n",
    "\n",
    "# Plot the bar chart\n",
    "plt.barh(combinations, comb_frequencies)\n",
    "plt.title(\"Top 10 POS Tag Combinations\")\n",
    "plt.xlabel(\"Frequency\")\n",
    "plt.ylabel(\"POS Tag Combinations\")\n",
    "plt.show()\n",
    "\n",
    "\n",
    "!pip install wordcloud\n",
    "from wordcloud import WordCloud\n",
    "\n",
    "# Generate a word cloud from POS tag frequencies\n",
    "wordcloud = WordCloud(width=800, height=400, background_color='white').generate_from_frequencies(pos_freq)\n",
    "\n",
    "# Display the word cloud\n",
    "plt.figure(figsize=(10, 5))\n",
    "plt.imshow(wordcloud, interpolation='bilinear')\n",
    "plt.axis('off')\n",
    "plt.title(\"POS Tag Word Cloud\")\n",
    "plt.show()"
   ]
  },
  {
   "cell_type": "markdown",
   "metadata": {},
   "source": [
    "### Display the HMM POS tagging on the first 4 rows of the dataset "
   ]
  },
  {
   "cell_type": "code",
   "execution_count": 39,
   "metadata": {},
   "outputs": [
    {
     "name": "stderr",
     "output_type": "stream",
     "text": [
      "[nltk_data] Downloading package treebank to\n",
      "[nltk_data]     C:\\Users\\Subhasis\\AppData\\Roaming\\nltk_data...\n",
      "[nltk_data]   Unzipping corpora\\treebank.zip.\n",
      "[nltk_data] Downloading package universal_tagset to\n",
      "[nltk_data]     C:\\Users\\Subhasis\\AppData\\Roaming\\nltk_data...\n",
      "[nltk_data]   Unzipping taggers\\universal_tagset.zip.\n"
     ]
    },
    {
     "data": {
      "text/plain": [
       "True"
      ]
     },
     "execution_count": 39,
     "metadata": {},
     "output_type": "execute_result"
    }
   ],
   "source": [
    "import nltk\n",
    "from nltk.tag.hmm import HiddenMarkovModelTrainer\n",
    "from nltk.corpus import treebank\n",
    "\n",
    "# Ensure required resources are available\n",
    "nltk.download('treebank')\n",
    "nltk.download('universal_tagset')"
   ]
  },
  {
   "cell_type": "code",
   "execution_count": 42,
   "metadata": {},
   "outputs": [
    {
     "name": "stdout",
     "output_type": "stream",
     "text": [
      "Row 1:\n",
      "Original Text: stay islam place really cool good location min away subway min downtown room nice place clean islam managed pretty well arrival even last minute recommand place airbnb user\n",
      "HMM POS Tags: [('stay', 'VERB'), ('islam', 'NOUN'), ('place', 'NOUN'), ('really', 'NOUN'), ('cool', 'NOUN'), ('good', 'NOUN'), ('location', 'NOUN'), ('min', 'NOUN'), ('away', 'NOUN'), ('subway', 'NOUN'), ('min', 'NOUN'), ('downtown', 'NOUN'), ('room', 'NOUN'), ('nice', 'NOUN'), ('place', 'NOUN'), ('clean', 'NOUN'), ('islam', 'NOUN'), ('managed', 'NOUN'), ('pretty', 'NOUN'), ('well', 'NOUN'), ('arrival', 'NOUN'), ('even', 'NOUN'), ('last', 'NOUN'), ('minute', 'NOUN'), ('recommand', 'NOUN'), ('place', 'NOUN'), ('airbnb', 'NOUN'), ('user', 'NOUN')]\n",
      "--------------------------------------------------\n",
      "Row 2:\n",
      "Original Text: great location airport city great amenity house plus islam always helpful even though away\n",
      "HMM POS Tags: [('great', 'ADJ'), ('location', 'NOUN'), ('airport', 'NOUN'), ('city', 'NOUN'), ('great', 'NOUN'), ('amenity', 'NOUN'), ('house', 'NOUN'), ('plus', 'NOUN'), ('islam', 'NOUN'), ('always', 'NOUN'), ('helpful', 'NOUN'), ('even', 'NOUN'), ('though', 'NOUN'), ('away', 'NOUN')]\n",
      "--------------------------------------------------\n",
      "Row 3:\n",
      "Original Text: really enjoyed stay islam house outside house didnt look inviting inside nice even though islam everything prepared arrival airport station min walk away little issue people house share one bathroom really problem worked fine would recommend islam place stay boston\n",
      "HMM POS Tags: [('really', 'ADV'), ('enjoyed', 'VERB'), ('stay', 'VERB'), ('islam', 'NOUN'), ('house', 'NOUN'), ('outside', 'NOUN'), ('house', 'NOUN'), ('didnt', 'NOUN'), ('look', 'NOUN'), ('inviting', 'NOUN'), ('inside', 'NOUN'), ('nice', 'NOUN'), ('even', 'NOUN'), ('though', 'NOUN'), ('islam', 'NOUN'), ('everything', 'NOUN'), ('prepared', 'NOUN'), ('arrival', 'NOUN'), ('airport', 'NOUN'), ('station', 'NOUN'), ('min', 'NOUN'), ('walk', 'NOUN'), ('away', 'NOUN'), ('little', 'NOUN'), ('issue', 'NOUN'), ('people', 'NOUN'), ('house', 'NOUN'), ('share', 'NOUN'), ('one', 'NOUN'), ('bathroom', 'NOUN'), ('really', 'NOUN'), ('problem', 'NOUN'), ('worked', 'NOUN'), ('fine', 'NOUN'), ('would', 'NOUN'), ('recommend', 'NOUN'), ('islam', 'NOUN'), ('place', 'NOUN'), ('stay', 'NOUN'), ('boston', 'NOUN')]\n",
      "--------------------------------------------------\n",
      "Row 4:\n",
      "Original Text: room nice clean commodity close airport metro station located quite safe area islam responds quickly helpful would recommend\n",
      "HMM POS Tags: [('room', 'NOUN'), ('nice', 'NOUN'), ('clean', 'NOUN'), ('commodity', 'NOUN'), ('close', 'NOUN'), ('airport', 'NOUN'), ('metro', 'NOUN'), ('station', 'NOUN'), ('located', 'NOUN'), ('quite', 'NOUN'), ('safe', 'NOUN'), ('area', 'NOUN'), ('islam', 'NOUN'), ('responds', 'NOUN'), ('quickly', 'NOUN'), ('helpful', 'NOUN'), ('would', 'NOUN'), ('recommend', 'NOUN')]\n",
      "--------------------------------------------------\n"
     ]
    }
   ],
   "source": [
    "# Get the tagged sentences from the Treebank corpus with the Universal Tagset\n",
    "tagged_sentences = treebank.tagged_sents(tagset='universal')\n",
    "\n",
    "# Initialize HMM trainer\n",
    "trainer = HiddenMarkovModelTrainer()\n",
    "\n",
    "# Train the HMM tagger\n",
    "hmm_tagger = trainer.train(tagged_sentences)\n",
    "\n",
    "\n",
    "# Extract the first 4 rows of normalized comments\n",
    "first_4_rows = data['normalized_comments'][:4]\n",
    "\n",
    "# Tokenize and apply the HMM tagger\n",
    "hmm_pos_tags = first_4_rows.apply(lambda text: hmm_tagger.tag(nltk.word_tokenize(text)))\n",
    "\n",
    "# Display the results\n",
    "for i, (text, tags) in enumerate(zip(first_4_rows, hmm_pos_tags)):\n",
    "    print(f\"Row {i+1}:\")\n",
    "    print(f\"Original Text: {text}\")\n",
    "    print(f\"HMM POS Tags: {tags}\")\n",
    "    print(\"-\" * 50)\n"
   ]
  },
  {
   "cell_type": "markdown",
   "metadata": {},
   "source": [
    "#### a) Choose a subset of the dataset (e.g., a paragraph or a set of sentences) and apply both POS tagging and NER to this subset.  "
   ]
  },
  {
   "cell_type": "code",
   "execution_count": 43,
   "metadata": {},
   "outputs": [
    {
     "name": "stderr",
     "output_type": "stream",
     "text": [
      "[nltk_data] Downloading package punkt to\n",
      "[nltk_data]     C:\\Users\\Subhasis\\AppData\\Roaming\\nltk_data...\n",
      "[nltk_data]   Package punkt is already up-to-date!\n",
      "[nltk_data] Downloading package averaged_perceptron_tagger to\n",
      "[nltk_data]     C:\\Users\\Subhasis\\AppData\\Roaming\\nltk_data...\n",
      "[nltk_data]   Package averaged_perceptron_tagger is already up-to-\n",
      "[nltk_data]       date!\n"
     ]
    },
    {
     "name": "stdout",
     "output_type": "stream",
     "text": [
      "Selected Subset:\n",
      "0    My stay at islam's place was really cool! Good...\n",
      "1    Great location for both airport and city - gre...\n",
      "Name: comments, dtype: object\n",
      "POS Tags for the Subset:\n",
      "Comment: My stay at islam's place was really cool! Good location, 5min away from subway, then 10min from downtown. The room was nice, all place was clean. Islam managed pretty well our arrival, even if it was last minute ;) i do recommand this place to any airbnb user :)\n",
      "POS Tags: [('My', 'PRP$'), ('stay', 'NN'), ('at', 'IN'), ('islam', 'NN'), (\"'s\", 'POS'), ('place', 'NN'), ('was', 'VBD'), ('really', 'RB'), ('cool', 'JJ'), ('!', '.'), ('Good', 'JJ'), ('location', 'NN'), (',', ','), ('5min', 'CD'), ('away', 'RB'), ('from', 'IN'), ('subway', 'NN'), (',', ','), ('then', 'RB'), ('10min', 'CD'), ('from', 'IN'), ('downtown', 'NN'), ('.', '.'), ('The', 'DT'), ('room', 'NN'), ('was', 'VBD'), ('nice', 'JJ'), (',', ','), ('all', 'DT'), ('place', 'NN'), ('was', 'VBD'), ('clean', 'JJ'), ('.', '.'), ('Islam', 'NNP'), ('managed', 'VBD'), ('pretty', 'RB'), ('well', 'RB'), ('our', 'PRP$'), ('arrival', 'NN'), (',', ','), ('even', 'RB'), ('if', 'IN'), ('it', 'PRP'), ('was', 'VBD'), ('last', 'JJ'), ('minute', 'NN'), (';', ':'), (')', ')'), ('i', 'NN'), ('do', 'VBP'), ('recommand', 'VB'), ('this', 'DT'), ('place', 'NN'), ('to', 'TO'), ('any', 'DT'), ('airbnb', 'JJ'), ('user', 'NN'), (':', ':'), (')', ')')]\n",
      "--------------------------------------------------\n",
      "Comment: Great location for both airport and city - great amenities in the house: Plus Islam was always very helpful even though he was away\n",
      "POS Tags: [('Great', 'NNP'), ('location', 'NN'), ('for', 'IN'), ('both', 'DT'), ('airport', 'NN'), ('and', 'CC'), ('city', 'NN'), ('-', ':'), ('great', 'JJ'), ('amenities', 'NNS'), ('in', 'IN'), ('the', 'DT'), ('house', 'NN'), (':', ':'), ('Plus', 'CC'), ('Islam', 'NNP'), ('was', 'VBD'), ('always', 'RB'), ('very', 'RB'), ('helpful', 'JJ'), ('even', 'RB'), ('though', 'IN'), ('he', 'PRP'), ('was', 'VBD'), ('away', 'RB')]\n",
      "--------------------------------------------------\n",
      "NER Tags for the Subset:\n",
      "Comment: My stay at islam's place was really cool! Good location, 5min away from subway, then 10min from downtown. The room was nice, all place was clean. Islam managed pretty well our arrival, even if it was last minute ;) i do recommand this place to any airbnb user :)\n",
      "NER Tags: [('islam', 'ORG'), ('10min', 'CARDINAL'), ('Islam', 'ORG'), ('last minute', 'TIME')]\n",
      "--------------------------------------------------\n",
      "Comment: Great location for both airport and city - great amenities in the house: Plus Islam was always very helpful even though he was away\n",
      "NER Tags: [('Islam', 'ORG')]\n",
      "--------------------------------------------------\n"
     ]
    }
   ],
   "source": [
    "import nltk\n",
    "import spacy\n",
    "\n",
    "# Ensure required resources are downloaded\n",
    "nltk.download('punkt')\n",
    "nltk.download('averaged_perceptron_tagger')\n",
    "\n",
    "# Load spaCy model for NER\n",
    "nlp = spacy.load(\"en_core_web_sm\")\n",
    "\n",
    "\n",
    "# Example subset: First 2 rows from the comments column\n",
    "subset = data['comments'][:2]\n",
    "print(\"Selected Subset:\")\n",
    "print(subset)\n",
    "\n",
    "\n",
    "# POS tagging function\n",
    "def pos_tagging(text):\n",
    "    tokens = nltk.word_tokenize(text)\n",
    "    return nltk.pos_tag(tokens)\n",
    "\n",
    "# Apply POS tagging to the subset\n",
    "pos_tags = subset.apply(pos_tagging)\n",
    "print(\"POS Tags for the Subset:\")\n",
    "for comment, tags in zip(subset, pos_tags):\n",
    "    print(f\"Comment: {comment}\")\n",
    "    print(f\"POS Tags: {tags}\")\n",
    "    print(\"-\" * 50)\n",
    "\n",
    "# NER tagging function\n",
    "def ner_tagging(text):\n",
    "    doc = nlp(text)\n",
    "    return [(ent.text, ent.label_) for ent in doc.ents]\n",
    "\n",
    "# Apply NER tagging to the subset\n",
    "ner_tags = subset.apply(ner_tagging)\n",
    "print(\"NER Tags for the Subset:\")\n",
    "for comment, entities in zip(subset, ner_tags):\n",
    "    print(f\"Comment: {comment}\")\n",
    "    print(f\"NER Tags: {entities}\")\n",
    "    print(\"-\" * 50)"
   ]
  },
  {
   "cell_type": "markdown",
   "metadata": {},
   "source": [
    "#### (b) Create a table that displays each word in the subset along with its POS tag and NER tag (if applicable). "
   ]
  },
  {
   "cell_type": "code",
   "execution_count": 45,
   "metadata": {},
   "outputs": [
    {
     "name": "stdout",
     "output_type": "stream",
     "text": [
      "      Word   POS   NER\n",
      "0       My  PRP$  None\n",
      "1     stay    NN  None\n",
      "2       at    IN  None\n",
      "3    islam    NN   ORG\n",
      "4       's   POS  None\n",
      "..     ...   ...   ...\n",
      "79    even    RB  None\n",
      "80  though    IN  None\n",
      "81      he   PRP  None\n",
      "82     was   VBD  None\n",
      "83    away    RB  None\n",
      "\n",
      "[84 rows x 3 columns]\n"
     ]
    }
   ],
   "source": [
    "def ner_tagging(text):\n",
    "    doc = nlp(text)\n",
    "    # Create a dictionary mapping each word to its NER label\n",
    "    return {ent.text: ent.label_ for ent in doc.ents}\n",
    "\n",
    "# Process each comment in the subset\n",
    "results = []\n",
    "for comment in subset:\n",
    "    pos_tags = pos_tagging(comment)\n",
    "    ner_tags = ner_tagging(comment)\n",
    "    \n",
    "    # Combine POS and NER tags for each word\n",
    "    for word, pos in pos_tags:\n",
    "        ner = ner_tags.get(word, None)  # Retrieve NER tag if it exists\n",
    "        results.append({'Word': word, 'POS': pos, 'NER': ner})\n",
    "\n",
    "# Convert results into a DataFrame\n",
    "result_df = pd.DataFrame(results)\n",
    "\n",
    "# Display the combined table\n",
    "print(result_df)"
   ]
  },
  {
   "cell_type": "markdown",
   "metadata": {},
   "source": [
    "#### (c) Identify the instances where POS tags and NER tags appear to contradict each other or provide mutually supportive information. Justify how these observed relationships can be leveraged to enhance the accuracy and depth of text analysis tasks                                               (3 Marks)\n"
   ]
  },
  {
   "cell_type": "code",
   "execution_count": 46,
   "metadata": {},
   "outputs": [
    {
     "name": "stdout",
     "output_type": "stream",
     "text": [
      "Contradictions:\n",
      "    Word POS  NER           Type\n",
      "0  islam  NN  ORG  Contradiction\n",
      "\n",
      "Mutual Support:\n",
      "    Word  POS  NER            Type\n",
      "0  Islam  NNP  ORG  Mutual Support\n",
      "1  Islam  NNP  ORG  Mutual Support\n"
     ]
    }
   ],
   "source": [
    "# Analyze contradictions and mutual support\n",
    "contradictions = []\n",
    "mutual_support = []\n",
    "\n",
    "for _, row in result_df.iterrows():\n",
    "    pos = row['POS']\n",
    "    ner = row['NER']\n",
    "    \n",
    "    # Contradictions: POS and NER suggest conflicting information\n",
    "    if pos in ['NN', 'NNS'] and ner in ['PERSON', 'DATE', 'ORG']:\n",
    "        contradictions.append({'Word': row['Word'], 'POS': pos, 'NER': ner, 'Type': 'Contradiction'})\n",
    "    \n",
    "    # Mutual support: POS and NER reinforce each other\n",
    "    if pos in ['NNP'] and ner in ['PERSON', 'ORG', 'GPE']:\n",
    "        mutual_support.append({'Word': row['Word'], 'POS': pos, 'NER': ner, 'Type': 'Mutual Support'})\n",
    "\n",
    "# Convert results to DataFrames for display\n",
    "contradictions_df = pd.DataFrame(contradictions)\n",
    "mutual_support_df = pd.DataFrame(mutual_support)\n",
    "\n",
    "print(\"Contradictions:\")\n",
    "print(contradictions_df)\n",
    "\n",
    "print(\"\\nMutual Support:\")\n",
    "print(mutual_support_df)\n"
   ]
  },
  {
   "cell_type": "markdown",
   "metadata": {},
   "source": [
    "Here’s the content formatted properly for Markdown:\n",
    "\n",
    "---\n",
    "\n",
    "# **Justification for Observed Relationships**\n",
    "\n",
    "## **1. Contradictions**\n",
    "\n",
    "### **Example**:\n",
    "- **Word**: `\"islam\"`\n",
    "- **POS**: `NN` (common noun)\n",
    "- **NER**: `ORG` (organization)\n",
    "\n",
    "### **Issue**:\n",
    "The POS tag (`NN`) suggests a general noun, while the NER tag (`ORG`) identifies it as a specific named entity. This mismatch can cause confusion in downstream tasks that rely on both POS and NER, such as text summarization or entity extraction.\n",
    "\n",
    "### **Resolution**:\n",
    "Contradictions can highlight ambiguities in the text, such as when proper nouns are incorrectly tokenized as lowercase (`islam` vs. `Islam`). Incorporating context-aware mechanisms, such as capitalization rules or dependency parsing, can help resolve these conflicts.\n",
    "\n",
    "### **How This Helps**:\n",
    "Identifying contradictions ensures improved accuracy in **entity linking** and **semantic role labeling** by correcting POS tags for named entities. For example, recognizing `\"Islam\"` as an organization (if relevant in context) helps categorize it correctly in domain-specific tasks.\n",
    "\n",
    "---\n",
    "\n",
    "## **2. Mutual Support**\n",
    "\n",
    "### **Example**:\n",
    "- **Word**: `\"Islam\"`\n",
    "- **POS**: `NNP` (proper noun)\n",
    "- **NER**: `ORG` (organization)\n",
    "\n",
    "### **Strength**:\n",
    "POS and NER mutually reinforce the identification of `\"Islam\"` as a proper noun (`NNP`) and a named entity (`ORG`). This consistency confirms that the entity is significant in the context of the text.\n",
    "\n",
    "### **How This Helps**:\n",
    "Mutual support ensures greater confidence in the identification of entities and improves downstream tasks:\n",
    "\n",
    "- **Entity Recognition Accuracy**:  \n",
    "  Proper nouns that align with NER tags can be more confidently classified, enhancing systems like **knowledge graphs** or **entity-based search engines**.\n",
    "\n",
    "- **Contextual Analysis**:  \n",
    "  Agreement between POS and NER supports better sentence-level semantics. For instance, identifying `\"Islam\"` as an organization allows NLP pipelines to generate more meaningful summaries.\n",
    "\n",
    "---\n",
    "\n",
    "## **Applications of Leveraging These Relationships**\n",
    "\n",
    "### **1. Improved Contextual Understanding**:\n",
    "- Contradictions can act as red flags for ambiguity, prompting additional analysis or corrections.\n",
    "- Mutual support can prioritize high-confidence relationships for tasks like machine translation or sentiment analysis.\n",
    "\n",
    "### **2. Enhanced Named Entity Disambiguation**:\n",
    "Combining consistent POS and NER tags improves the system’s ability to disambiguate entities, reducing errors in domain-specific models (e.g., recognizing `\"Islam\"` as an organization in geopolitical texts).\n",
    "\n",
    "### **3. Robust NLP Pipelines**:\n",
    "- Using contradictions to flag preprocessing issues (e.g., case sensitivity, tokenization) can improve the robustness of NLP workflows.\n",
    "- Mutual support ensures reliable extraction of key entities for applications like document classification or entity linking.\n",
    "\n",
    "---\n",
    "\n",
    "## **Conclusion**\n",
    "\n",
    "By analyzing contradictions and mutual support between POS and NER tags:\n",
    "- **Contradictions** highlight ambiguities, guiding refinements in text processing.\n",
    "- **Mutual Support** strengthens confidence in accurate text interpretations.  \n",
    "\n",
    "Together, these insights can enhance the **accuracy**, **depth**, and **context-awareness** of text analysis tasks.\n",
    "\n"
   ]
  },
  {
   "cell_type": "markdown",
   "metadata": {},
   "source": [
    "## Justification of the output obtained for all the above tasks is mandatory"
   ]
  }
 ],
 "metadata": {
  "kernelspec": {
   "display_name": "base",
   "language": "python",
   "name": "python3"
  },
  "language_info": {
   "codemirror_mode": {
    "name": "ipython",
    "version": 3
   },
   "file_extension": ".py",
   "mimetype": "text/x-python",
   "name": "python",
   "nbconvert_exporter": "python",
   "pygments_lexer": "ipython3",
   "version": "3.12.2"
  }
 },
 "nbformat": 4,
 "nbformat_minor": 2
}
