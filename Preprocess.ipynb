{
 "cells": [
  {
   "cell_type": "code",
   "execution_count": null,
   "metadata": {
    "colab": {
     "base_uri": "https://localhost:8080/"
    },
    "id": "nsopCPps6CmJ",
    "outputId": "1f237858-751c-4c12-f1a4-169d957b88e7"
   },
   "outputs": [
    {
     "name": "stderr",
     "output_type": "stream",
     "text": [
      "[nltk_data] Downloading package punkt to /root/nltk_data...\n",
      "[nltk_data]   Package punkt is already up-to-date!\n",
      "[nltk_data] Downloading package wordnet to /root/nltk_data...\n",
      "[nltk_data]   Package wordnet is already up-to-date!\n",
      "[nltk_data] Downloading package averaged_perceptron_tagger to\n",
      "[nltk_data]     /root/nltk_data...\n",
      "[nltk_data]   Unzipping taggers/averaged_perceptron_tagger.zip.\n",
      "[nltk_data] Downloading package stopwords to /root/nltk_data...\n",
      "[nltk_data]   Package stopwords is already up-to-date!\n"
     ]
    },
    {
     "data": {
      "text/plain": [
       "True"
      ]
     },
     "execution_count": 2,
     "metadata": {},
     "output_type": "execute_result"
    }
   ],
   "source": [
    "import nltk\n",
    "nltk.download('punkt')\n",
    "nltk.download('wordnet')\n",
    "nltk.download('averaged_perceptron_tagger')\n",
    "nltk.download(\"stopwords\")"
   ]
  },
  {
   "cell_type": "code",
   "execution_count": 3,
   "metadata": {
    "colab": {
     "base_uri": "https://localhost:8080/"
    },
    "id": "7K0MHkT36dpC",
    "outputId": "214dd982-8038-4c4c-ffab-3598ea42cef5"
   },
   "outputs": [
    {
     "name": "stdout",
     "output_type": "stream",
     "text": [
      "i study machine learning isnt it a great day \n",
      "['i', 'study', 'machine', 'learning', 'isnt', 'it', 'a', 'great', 'day']\n"
     ]
    }
   ],
   "source": [
    "# Tokenization example\n",
    "from nltk import word_tokenize\n",
    "import string\n",
    "text = \"I study Machine Learning. Is'nt it a GREAT day!!! \"\n",
    "text = text.lower()\n",
    "text = text.translate(str.maketrans('', '', string.punctuation))\n",
    "print(text)\n",
    "print(word_tokenize(text))"
   ]
  },
  {
   "cell_type": "code",
   "execution_count": null,
   "metadata": {
    "colab": {
     "base_uri": "https://localhost:8080/"
    },
    "id": "mH1IyDIUC2kK",
    "outputId": "7ebcf845-6ac9-40d0-be53-13bf099f6bc4"
   },
   "outputs": [
    {
     "name": "stdout",
     "output_type": "stream",
     "text": [
      "Word tokens :  ['This', 'is', 'a', 'sample', 'sentence', ',', 'showing', 'off', 'the', 'stop', 'words', 'filtration', '.']\n",
      "Tokens after stop word removal ['sample', 'sentence', ',', 'showing', 'stop', 'words', 'filtration', '.']\n"
     ]
    }
   ],
   "source": [
    "# stopword removal example\n",
    "from nltk.corpus import stopwords\n",
    "from nltk.tokenize import word_tokenize\n",
    "\n",
    "example_sent = \"\"\"This is a sample sentence,\n",
    "                  showing off the stop words filtration.\"\"\"\n",
    "\n",
    "stop_words = set(stopwords.words('english'))\n",
    "\n",
    "word_tokens = word_tokenize(example_sent)\n",
    "# converts the words in word_tokens to lower case and then checks whether\n",
    "#they are present in stop_words or not\n",
    "filtered_sentence = [w for w in word_tokens if not w.lower() in stop_words]\n",
    "#with no lower case conversion\n",
    "\n",
    "print(\"Word tokens : \",word_tokens)\n",
    "print(\"Tokens after stop word removal\",filtered_sentence)"
   ]
  },
  {
   "cell_type": "code",
   "execution_count": null,
   "metadata": {
    "colab": {
     "base_uri": "https://localhost:8080/"
    },
    "id": "nGugnIRI6tsq",
    "outputId": "865ae568-9dc2-4045-fa8c-afdb7a335073"
   },
   "outputs": [
    {
     "name": "stdout",
     "output_type": "stream",
     "text": [
      "Result after stemming technique :- \n",
      "programm program with program languag\n"
     ]
    }
   ],
   "source": [
    "#stemming example\n",
    "from nltk.stem import PorterStemmer\n",
    "def porter_stemmer(text):\n",
    "\ttokens = word_tokenize(text)\n",
    "\tfor index in range(len(tokens)):\n",
    "\t\t# stem word to each word\n",
    "\t\tstem_word = stemmer.stem(tokens[index])\n",
    "\t\t# update tokens list with stem word\n",
    "\t\ttokens[index] = stem_word\n",
    "\t# join list with space separator as string\n",
    "\treturn ' '.join(tokens)\n",
    "stemmer = PorterStemmer()\n",
    "ex_stem = \"Programmers program with programming languages\"\n",
    "stem_result = porter_stemmer(ex_stem)\n",
    "print(f\"Result after stemming technique :- \\n{stem_result}\")\n"
   ]
  },
  {
   "cell_type": "code",
   "execution_count": null,
   "metadata": {
    "colab": {
     "base_uri": "https://localhost:8080/"
    },
    "id": "XdQlN1cEUyGb",
    "outputId": "ebbb117c-5b84-4361-a7af-2b4a63d39736"
   },
   "outputs": [
    {
     "name": "stdout",
     "output_type": "stream",
     "text": [
      "cared ----> care\n",
      "university ----> univers\n",
      "fairly ----> fair\n",
      "easily ----> easili\n",
      "singing ----> sing\n",
      "sings ----> sing\n",
      "sung ----> sung\n",
      "singer ----> singer\n",
      "sportingly ----> sport\n"
     ]
    }
   ],
   "source": [
    "import nltk\n",
    "from nltk.stem.snowball import SnowballStemmer\n",
    "\n",
    "#the stemmer requires a language parameter\n",
    "snow_stemmer = SnowballStemmer(language='english')\n",
    "\n",
    "#list of tokenized words\n",
    "words = ['cared','university','fairly','easily','singing',\n",
    "       'sings','sung','singer','sportingly']\n",
    "\n",
    "#stem's of each word\n",
    "stem_words = []\n",
    "for w in words:\n",
    "    x = snow_stemmer.stem(w)\n",
    "    stem_words.append(x)\n",
    "\n",
    "#print stemming results\n",
    "for e1,e2 in zip(words,stem_words):\n",
    "    print(e1+' ----> '+e2)"
   ]
  },
  {
   "cell_type": "code",
   "execution_count": 5,
   "metadata": {},
   "outputs": [
    {
     "name": "stdout",
     "output_type": "stream",
     "text": [
      "Result of lemmatization \n",
      "Programmers program with programming language\n"
     ]
    }
   ],
   "source": [
    "#Lemmatization - without POS tag - Example-1\n",
    "from nltk.stem import WordNetLemmatizer\n",
    "def lemmatization(text):\n",
    "\ttokens = word_tokenize(text)\n",
    "\tfor index in range(len(tokens)):\n",
    "\t\tlemma_word = lemma.lemmatize(tokens[index])\n",
    "\t\ttokens[index] = lemma_word\n",
    "\treturn ' '.join(tokens)\n",
    "\n",
    "lemma = WordNetLemmatizer()\n",
    "ex_lemma = \"Programmers program with programming languages\"\n",
    "lemma_result = lemmatization(ex_lemma)\n",
    "print(f\"Result of lemmatization \\n{lemma_result}\")\n"
   ]
  },
  {
   "cell_type": "code",
   "execution_count": null,
   "metadata": {
    "colab": {
     "base_uri": "https://localhost:8080/"
    },
    "id": "9jB97i2P6xrL",
    "outputId": "b49d181d-e517-46c1-c7ee-cc4156a753b3"
   },
   "outputs": [
    {
     "name": "stdout",
     "output_type": "stream",
     "text": [
      "She ---> She\n",
      "jumped ---> jump\n",
      "into ---> into\n",
      "the ---> the\n",
      "river ---> river\n",
      "and ---> and\n",
      "breathed ---> breathe\n",
      "heavily ---> heavily\n"
     ]
    }
   ],
   "source": [
    "#lemmatization example-2 - with POS tag\n",
    "from nltk.stem import WordNetLemmatizer\n",
    "from nltk import word_tokenize,pos_tag\n",
    "\n",
    "text = \"She jumped into the river and breathed heavily\"\n",
    "wordnet = WordNetLemmatizer()\n",
    "\n",
    "for token,tag in pos_tag(word_tokenize(text)):\n",
    "    pos=tag[0].lower()\n",
    "\n",
    "\n",
    "    if pos not in ['a', 'r', 'n', 'v']:\n",
    "       pos='n'\n",
    "\n",
    "    print(token,\"--->\",wordnet.lemmatize(token,pos))"
   ]
  },
  {
   "cell_type": "code",
   "execution_count": null,
   "metadata": {
    "colab": {
     "base_uri": "https://localhost:8080/"
    },
    "id": "fq-qMTFNQnTp",
    "outputId": "bf6482ca-5390-4b91-d8d8-1c4a1e184ce9"
   },
   "outputs": [
    {
     "name": "stdout",
     "output_type": "stream",
     "text": [
      "Inverted Index with Document Frequency:\n",
      "sampl: [1, 2] (Document Frequency: 2)\n",
      "document: [1, 2, 3] (Document Frequency: 3)\n",
      "anoth: [2] (Document Frequency: 1)\n",
      "differ: [3] (Document Frequency: 1)\n"
     ]
    },
    {
     "name": "stderr",
     "output_type": "stream",
     "text": [
      "[nltk_data] Downloading package punkt to /root/nltk_data...\n",
      "[nltk_data]   Package punkt is already up-to-date!\n",
      "[nltk_data] Downloading package stopwords to /root/nltk_data...\n",
      "[nltk_data]   Package stopwords is already up-to-date!\n",
      "[nltk_data] Downloading package wordnet to /root/nltk_data...\n",
      "[nltk_data]   Package wordnet is already up-to-date!\n"
     ]
    }
   ],
   "source": [
    "#Example to create inverted index from preprocessed text\n",
    "import nltk\n",
    "from nltk.tokenize import word_tokenize\n",
    "from nltk.corpus import stopwords\n",
    "from nltk.stem import PorterStemmer, WordNetLemmatizer\n",
    "from collections import defaultdict\n",
    "import string\n",
    "\n",
    "# Download necessary NLTK data\n",
    "nltk.download('punkt')\n",
    "nltk.download('stopwords')\n",
    "nltk.download('wordnet')\n",
    "\n",
    "# Sample documents\n",
    "documents = {\n",
    "    1: \"This is a sample document.\",\n",
    "    2: \"This document is another sample document.\",\n",
    "    3: \"And this is a different document.\"\n",
    "}\n",
    "\n",
    "# Initialize stop words, stemmer, and lemmatizer\n",
    "stop_words = set(stopwords.words('english'))\n",
    "stemmer = PorterStemmer()\n",
    "lemmatizer = WordNetLemmatizer()\n",
    "\n",
    "# Function to preprocess and tokenize text\n",
    "def preprocess(text, use_stemming=True):\n",
    "    # Normalize text\n",
    "    text = text.lower()\n",
    "    text = text.translate(str.maketrans('', '', string.punctuation))\n",
    "\n",
    "    # Tokenize text\n",
    "    tokens = word_tokenize(text)\n",
    "\n",
    "    # Remove stop words\n",
    "    tokens = [word for word in tokens if word not in stop_words]\n",
    "\n",
    "    # Stem or lemmatize tokens\n",
    "    if use_stemming:\n",
    "        tokens = [stemmer.stem(word) for word in tokens]\n",
    "    else:\n",
    "        tokens = [lemmatizer.lemmatize(word) for word in tokens]\n",
    "\n",
    "    return tokens\n",
    "\n",
    "# Create the inverted index with document frequency\n",
    "inverted_index = defaultdict(list)\n",
    "doc_freq = defaultdict(int)\n",
    "\n",
    "for doc_id, text in documents.items():\n",
    "    tokens = preprocess(text)\n",
    "    unique_tokens = set(tokens)\n",
    "    for token in unique_tokens:\n",
    "        doc_freq[token] += 1\n",
    "        inverted_index[token].append(doc_id)\n",
    "\n",
    "# Display the inverted index with document frequency\n",
    "print(\"Inverted Index with Document Frequency:\")\n",
    "for word, doc_ids in inverted_index.items():\n",
    "    print(f\"{word}: {doc_ids} (Document Frequency: {doc_freq[word]})\")\n",
    "\n"
   ]
  },
  {
   "cell_type": "code",
   "execution_count": null,
   "metadata": {
    "colab": {
     "base_uri": "https://localhost:8080/"
    },
    "id": "jHW6cS1gl7vL",
    "outputId": "3d980a84-5270-4dd5-df6e-cff927c9a1c1"
   },
   "outputs": [
    {
     "name": "stdout",
     "output_type": "stream",
     "text": [
      "Inverted Index:\n",
      "this: [1, 2, 3]\n",
      "is: [1, 2, 3]\n",
      "a: [1, 3]\n",
      "sample: [1, 2]\n",
      "document: [1, 2, 3]\n",
      "another: [2]\n",
      "and: [3]\n",
      "different: [3]\n",
      "Query: 'sample AND document' => Documents: [1, 2]\n",
      "Query: 'different OR another ' => Documents: [2, 3]\n",
      "Query: 'sample' => Documents: [1, 2]\n"
     ]
    }
   ],
   "source": [
    "from collections import defaultdict\n",
    "import string\n",
    "\n",
    "# Sample documents\n",
    "documents = {\n",
    "    1: \"This is a sample document.\",\n",
    "    2: \"This document is another sample document.\",\n",
    "    3: \"And this is a different document.\"\n",
    "}\n",
    "\n",
    "# Preprocess the text\n",
    "def preprocess(text):\n",
    "    # Convert to lowercase\n",
    "    text = text.lower()\n",
    "    # Remove punctuation\n",
    "    text = text.translate(str.maketrans('', '', string.punctuation))\n",
    "    # Tokenize by splitting on whitespace\n",
    "    tokens = text.split()\n",
    "    return tokens\n",
    "\n",
    "# Create the inverted index\n",
    "def create_inverted_index(documents):\n",
    "    inverted_index = defaultdict(set)\n",
    "    for doc_id, text in documents.items():\n",
    "        tokens = preprocess(text)\n",
    "        for token in tokens:\n",
    "            inverted_index[token].add(doc_id)\n",
    "    return inverted_index\n",
    "\n",
    "# Display the inverted index\n",
    "def display_inverted_index(inverted_index):\n",
    "    print(\"Inverted Index:\")\n",
    "    for word, doc_ids in inverted_index.items():\n",
    "        print(f\"{word}: {list(doc_ids)}\")\n",
    "\n",
    "# Boolean query function\n",
    "def boolean_query(query, inverted_index):\n",
    "    query = query.lower()\n",
    "    query = query.translate(str.maketrans('', '', string.punctuation))\n",
    "    query_tokens = query.split()\n",
    "\n",
    "    if 'and' in query_tokens:\n",
    "        query_tokens.remove('and')\n",
    "        result_docs = inverted_index[query_tokens[0]].copy()\n",
    "        for token in query_tokens[1:]:\n",
    "           result_docs = result_docs.intersection(set(inverted_index[token]))\n",
    "    elif 'or' in query_tokens:\n",
    "        query_tokens.remove('or')\n",
    "        result_docs = set()\n",
    "        for token in query_tokens:\n",
    "            result_docs = result_docs.union(set(inverted_index[token]))\n",
    "    else:\n",
    "        result_docs = inverted_index[query_tokens[0]]\n",
    "\n",
    "    return list(result_docs)\n",
    "\n",
    "# Main execution\n",
    "inverted_index = create_inverted_index(documents)\n",
    "display_inverted_index(inverted_index)\n",
    "\n",
    "# Sample boolean queries\n",
    "queries = [\n",
    "    \"sample AND document\",\n",
    "    \"different OR another \",\n",
    "    \"sample\"\n",
    "]\n",
    "\n",
    "# Process and print the results for each query\n",
    "for query in queries:\n",
    "    result = boolean_query(query, inverted_index)\n",
    "    print(f\"Query: '{query}' => Documents: {result}\")\n"
   ]
  },
  {
   "cell_type": "code",
   "execution_count": null,
   "metadata": {},
   "outputs": [],
   "source": []
  }
 ],
 "metadata": {
  "colab": {
   "provenance": []
  },
  "kernelspec": {
   "display_name": "Python 3 (ipykernel)",
   "language": "python",
   "name": "python3"
  },
  "language_info": {
   "codemirror_mode": {
    "name": "ipython",
    "version": 3
   },
   "file_extension": ".py",
   "mimetype": "text/x-python",
   "name": "python",
   "nbconvert_exporter": "python",
   "pygments_lexer": "ipython3",
   "version": "3.12.4"
  }
 },
 "nbformat": 4,
 "nbformat_minor": 4
}
